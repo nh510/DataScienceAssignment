{
 "cells": [
  {
   "cell_type": "code",
   "execution_count": null,
   "id": "c2bddd65-cb9b-4a4a-bb1d-5d4ea7f335bc",
   "metadata": {
    "tags": []
   },
   "outputs": [],
   "source": [
    "# Import pandas as a data analysis tool and read in a data set"
   ]
  },
  {
   "cell_type": "code",
   "execution_count": 16,
   "id": "03354589-7a7a-4aed-9672-210ff218b0fa",
   "metadata": {},
   "outputs": [],
   "source": [
    "import pandas as pd\n",
    "badgers = pd.read_csv(\"badger.csv\")"
   ]
  },
  {
   "cell_type": "code",
   "execution_count": 17,
   "id": "7127e724-ca6d-4e39-bdab-ef9d95e23e35",
   "metadata": {},
   "outputs": [
    {
     "data": {
      "text/html": [
       "<div>\n",
       "<style scoped>\n",
       "    .dataframe tbody tr th:only-of-type {\n",
       "        vertical-align: middle;\n",
       "    }\n",
       "\n",
       "    .dataframe tbody tr th {\n",
       "        vertical-align: top;\n",
       "    }\n",
       "\n",
       "    .dataframe thead th {\n",
       "        text-align: right;\n",
       "    }\n",
       "</style>\n",
       "<table border=\"1\" class=\"dataframe\">\n",
       "  <thead>\n",
       "    <tr style=\"text-align: right;\">\n",
       "      <th></th>\n",
       "      <th>ind</th>\n",
       "      <th>date</th>\n",
       "      <th>tbstat</th>\n",
       "      <th>tbstat.yng</th>\n",
       "      <th>tbstat.ad</th>\n",
       "      <th>sex</th>\n",
       "      <th>age.known</th>\n",
       "      <th>age</th>\n",
       "      <th>season</th>\n",
       "      <th>year</th>\n",
       "      <th>...</th>\n",
       "      <th>condition</th>\n",
       "      <th>body.length</th>\n",
       "      <th>temp</th>\n",
       "      <th>dam</th>\n",
       "      <th>young</th>\n",
       "      <th>age.sq</th>\n",
       "      <th>age.cb</th>\n",
       "      <th>unique</th>\n",
       "      <th>body.length.est</th>\n",
       "      <th>smi</th>\n",
       "    </tr>\n",
       "  </thead>\n",
       "  <tbody>\n",
       "    <tr>\n",
       "      <th>0</th>\n",
       "      <td>001A</td>\n",
       "      <td>20/05/2014</td>\n",
       "      <td>0.0</td>\n",
       "      <td>0.0</td>\n",
       "      <td>NaN</td>\n",
       "      <td>1.0</td>\n",
       "      <td>0.0</td>\n",
       "      <td>0.000</td>\n",
       "      <td>Spring</td>\n",
       "      <td>2014</td>\n",
       "      <td>...</td>\n",
       "      <td>FAIR</td>\n",
       "      <td>58.0</td>\n",
       "      <td>37.3</td>\n",
       "      <td>033K</td>\n",
       "      <td>1.0</td>\n",
       "      <td>0.000</td>\n",
       "      <td>0.000</td>\n",
       "      <td>001A41779</td>\n",
       "      <td>58.0</td>\n",
       "      <td>9.11086165</td>\n",
       "    </tr>\n",
       "    <tr>\n",
       "      <th>1</th>\n",
       "      <td>001B</td>\n",
       "      <td>25/01/2006</td>\n",
       "      <td>0.0</td>\n",
       "      <td>NaN</td>\n",
       "      <td>NaN</td>\n",
       "      <td>2.0</td>\n",
       "      <td>NaN</td>\n",
       "      <td>4.066</td>\n",
       "      <td>Winter</td>\n",
       "      <td>2006</td>\n",
       "      <td>...</td>\n",
       "      <td>GOOD</td>\n",
       "      <td>80.0</td>\n",
       "      <td>37.2</td>\n",
       "      <td>NaN</td>\n",
       "      <td>NaN</td>\n",
       "      <td>16.532</td>\n",
       "      <td>67.221</td>\n",
       "      <td>001B38742</td>\n",
       "      <td>80.0</td>\n",
       "      <td>6.538545094</td>\n",
       "    </tr>\n",
       "    <tr>\n",
       "      <th>2</th>\n",
       "      <td>001B</td>\n",
       "      <td>24/05/2006</td>\n",
       "      <td>0.0</td>\n",
       "      <td>NaN</td>\n",
       "      <td>NaN</td>\n",
       "      <td>2.0</td>\n",
       "      <td>NaN</td>\n",
       "      <td>4.066</td>\n",
       "      <td>Spring</td>\n",
       "      <td>2006</td>\n",
       "      <td>...</td>\n",
       "      <td>GOOD</td>\n",
       "      <td>84.0</td>\n",
       "      <td>37.9</td>\n",
       "      <td>NaN</td>\n",
       "      <td>NaN</td>\n",
       "      <td>16.532</td>\n",
       "      <td>67.221</td>\n",
       "      <td>001B38861</td>\n",
       "      <td>84.0</td>\n",
       "      <td>6.138892396</td>\n",
       "    </tr>\n",
       "    <tr>\n",
       "      <th>3</th>\n",
       "      <td>001B</td>\n",
       "      <td>05/05/2009</td>\n",
       "      <td>0.0</td>\n",
       "      <td>NaN</td>\n",
       "      <td>NaN</td>\n",
       "      <td>2.0</td>\n",
       "      <td>NaN</td>\n",
       "      <td>4.066</td>\n",
       "      <td>Spring</td>\n",
       "      <td>2009</td>\n",
       "      <td>...</td>\n",
       "      <td>POOR</td>\n",
       "      <td>86.5</td>\n",
       "      <td>38.4</td>\n",
       "      <td>NaN</td>\n",
       "      <td>NaN</td>\n",
       "      <td>16.532</td>\n",
       "      <td>67.221</td>\n",
       "      <td>001B39938</td>\n",
       "      <td>86.5</td>\n",
       "      <td>5.517685446</td>\n",
       "    </tr>\n",
       "    <tr>\n",
       "      <th>4</th>\n",
       "      <td>001E</td>\n",
       "      <td>21/05/2013</td>\n",
       "      <td>1.0</td>\n",
       "      <td>1.0</td>\n",
       "      <td>NaN</td>\n",
       "      <td>1.0</td>\n",
       "      <td>0.0</td>\n",
       "      <td>0.000</td>\n",
       "      <td>Spring</td>\n",
       "      <td>2013</td>\n",
       "      <td>...</td>\n",
       "      <td>FAIR</td>\n",
       "      <td>59.0</td>\n",
       "      <td>38.1</td>\n",
       "      <td>NaN</td>\n",
       "      <td>1.0</td>\n",
       "      <td>0.000</td>\n",
       "      <td>0.000</td>\n",
       "      <td>001E41415</td>\n",
       "      <td>59.0</td>\n",
       "      <td>9.152787475</td>\n",
       "    </tr>\n",
       "    <tr>\n",
       "      <th>...</th>\n",
       "      <td>...</td>\n",
       "      <td>...</td>\n",
       "      <td>...</td>\n",
       "      <td>...</td>\n",
       "      <td>...</td>\n",
       "      <td>...</td>\n",
       "      <td>...</td>\n",
       "      <td>...</td>\n",
       "      <td>...</td>\n",
       "      <td>...</td>\n",
       "      <td>...</td>\n",
       "      <td>...</td>\n",
       "      <td>...</td>\n",
       "      <td>...</td>\n",
       "      <td>...</td>\n",
       "      <td>...</td>\n",
       "      <td>...</td>\n",
       "      <td>...</td>\n",
       "      <td>...</td>\n",
       "      <td>...</td>\n",
       "      <td>...</td>\n",
       "    </tr>\n",
       "    <tr>\n",
       "      <th>14479</th>\n",
       "      <td>Z094</td>\n",
       "      <td>09/09/1998</td>\n",
       "      <td>0.0</td>\n",
       "      <td>NaN</td>\n",
       "      <td>0.0</td>\n",
       "      <td>1.0</td>\n",
       "      <td>4.0</td>\n",
       "      <td>4.000</td>\n",
       "      <td>Autumn</td>\n",
       "      <td>1998</td>\n",
       "      <td>...</td>\n",
       "      <td>GOOD</td>\n",
       "      <td>76.0</td>\n",
       "      <td>38.7</td>\n",
       "      <td>NaN</td>\n",
       "      <td>2.0</td>\n",
       "      <td>16.000</td>\n",
       "      <td>64.000</td>\n",
       "      <td>Z09436047</td>\n",
       "      <td>76.0</td>\n",
       "      <td>7.237917755</td>\n",
       "    </tr>\n",
       "    <tr>\n",
       "      <th>14480</th>\n",
       "      <td>Z094</td>\n",
       "      <td>06/07/1999</td>\n",
       "      <td>0.0</td>\n",
       "      <td>NaN</td>\n",
       "      <td>0.0</td>\n",
       "      <td>1.0</td>\n",
       "      <td>5.0</td>\n",
       "      <td>5.000</td>\n",
       "      <td>Summer</td>\n",
       "      <td>1999</td>\n",
       "      <td>...</td>\n",
       "      <td>GOOD</td>\n",
       "      <td>76.0</td>\n",
       "      <td>39.1</td>\n",
       "      <td>NaN</td>\n",
       "      <td>2.0</td>\n",
       "      <td>25.000</td>\n",
       "      <td>125.000</td>\n",
       "      <td>Z09436347</td>\n",
       "      <td>76.0</td>\n",
       "      <td>8.055102018</td>\n",
       "    </tr>\n",
       "    <tr>\n",
       "      <th>14481</th>\n",
       "      <td>Z094</td>\n",
       "      <td>08/09/1999</td>\n",
       "      <td>0.0</td>\n",
       "      <td>NaN</td>\n",
       "      <td>0.0</td>\n",
       "      <td>1.0</td>\n",
       "      <td>5.0</td>\n",
       "      <td>5.000</td>\n",
       "      <td>Autumn</td>\n",
       "      <td>1999</td>\n",
       "      <td>...</td>\n",
       "      <td>GOOD</td>\n",
       "      <td>76.5</td>\n",
       "      <td>38.4</td>\n",
       "      <td>NaN</td>\n",
       "      <td>2.0</td>\n",
       "      <td>25.000</td>\n",
       "      <td>125.000</td>\n",
       "      <td>Z09436411</td>\n",
       "      <td>76.5</td>\n",
       "      <td>7.615801664</td>\n",
       "    </tr>\n",
       "    <tr>\n",
       "      <th>14482</th>\n",
       "      <td>Z095</td>\n",
       "      <td>29/11/1994</td>\n",
       "      <td>0.0</td>\n",
       "      <td>NaN</td>\n",
       "      <td>NaN</td>\n",
       "      <td>2.0</td>\n",
       "      <td>NaN</td>\n",
       "      <td>4.066</td>\n",
       "      <td>Autumn</td>\n",
       "      <td>1994</td>\n",
       "      <td>...</td>\n",
       "      <td>VGOOD</td>\n",
       "      <td>NaN</td>\n",
       "      <td>38.7</td>\n",
       "      <td>NaN</td>\n",
       "      <td>NaN</td>\n",
       "      <td>16.532</td>\n",
       "      <td>67.221</td>\n",
       "      <td>Z09534667</td>\n",
       "      <td>NaN</td>\n",
       "      <td>#VALUE!</td>\n",
       "    </tr>\n",
       "    <tr>\n",
       "      <th>14483</th>\n",
       "      <td>Z096</td>\n",
       "      <td>29/11/1994</td>\n",
       "      <td>0.0</td>\n",
       "      <td>0.0</td>\n",
       "      <td>NaN</td>\n",
       "      <td>2.0</td>\n",
       "      <td>0.0</td>\n",
       "      <td>0.000</td>\n",
       "      <td>Autumn</td>\n",
       "      <td>1994</td>\n",
       "      <td>...</td>\n",
       "      <td>VGOOD</td>\n",
       "      <td>NaN</td>\n",
       "      <td>37.7</td>\n",
       "      <td>NaN</td>\n",
       "      <td>1.0</td>\n",
       "      <td>0.000</td>\n",
       "      <td>0.000</td>\n",
       "      <td>Z09634667</td>\n",
       "      <td>NaN</td>\n",
       "      <td>#VALUE!</td>\n",
       "    </tr>\n",
       "  </tbody>\n",
       "</table>\n",
       "<p>14484 rows × 23 columns</p>\n",
       "</div>"
      ],
      "text/plain": [
       "        ind        date  tbstat  tbstat.yng  tbstat.ad  sex  age.known    age  \\\n",
       "0      001A  20/05/2014     0.0         0.0        NaN  1.0        0.0  0.000   \n",
       "1      001B  25/01/2006     0.0         NaN        NaN  2.0        NaN  4.066   \n",
       "2      001B  24/05/2006     0.0         NaN        NaN  2.0        NaN  4.066   \n",
       "3      001B  05/05/2009     0.0         NaN        NaN  2.0        NaN  4.066   \n",
       "4      001E  21/05/2013     1.0         1.0        NaN  1.0        0.0  0.000   \n",
       "...     ...         ...     ...         ...        ...  ...        ...    ...   \n",
       "14479  Z094  09/09/1998     0.0         NaN        0.0  1.0        4.0  4.000   \n",
       "14480  Z094  06/07/1999     0.0         NaN        0.0  1.0        5.0  5.000   \n",
       "14481  Z094  08/09/1999     0.0         NaN        0.0  1.0        5.0  5.000   \n",
       "14482  Z095  29/11/1994     0.0         NaN        NaN  2.0        NaN  4.066   \n",
       "14483  Z096  29/11/1994     0.0         0.0        NaN  2.0        0.0  0.000   \n",
       "\n",
       "       season  year  ... condition  body.length  temp   dam  young  age.sq  \\\n",
       "0      Spring  2014  ...      FAIR         58.0  37.3  033K    1.0   0.000   \n",
       "1      Winter  2006  ...      GOOD         80.0  37.2   NaN    NaN  16.532   \n",
       "2      Spring  2006  ...      GOOD         84.0  37.9   NaN    NaN  16.532   \n",
       "3      Spring  2009  ...      POOR         86.5  38.4   NaN    NaN  16.532   \n",
       "4      Spring  2013  ...      FAIR         59.0  38.1   NaN    1.0   0.000   \n",
       "...       ...   ...  ...       ...          ...   ...   ...    ...     ...   \n",
       "14479  Autumn  1998  ...      GOOD         76.0  38.7   NaN    2.0  16.000   \n",
       "14480  Summer  1999  ...      GOOD         76.0  39.1   NaN    2.0  25.000   \n",
       "14481  Autumn  1999  ...      GOOD         76.5  38.4   NaN    2.0  25.000   \n",
       "14482  Autumn  1994  ...     VGOOD          NaN  38.7   NaN    NaN  16.532   \n",
       "14483  Autumn  1994  ...     VGOOD          NaN  37.7   NaN    1.0   0.000   \n",
       "\n",
       "        age.cb    unique   body.length.est          smi  \n",
       "0        0.000  001A41779             58.0   9.11086165  \n",
       "1       67.221  001B38742             80.0  6.538545094  \n",
       "2       67.221  001B38861             84.0  6.138892396  \n",
       "3       67.221  001B39938             86.5  5.517685446  \n",
       "4        0.000  001E41415             59.0  9.152787475  \n",
       "...        ...        ...              ...          ...  \n",
       "14479   64.000  Z09436047             76.0  7.237917755  \n",
       "14480  125.000  Z09436347             76.0  8.055102018  \n",
       "14481  125.000  Z09436411             76.5  7.615801664  \n",
       "14482   67.221  Z09534667              NaN      #VALUE!  \n",
       "14483    0.000  Z09634667              NaN      #VALUE!  \n",
       "\n",
       "[14484 rows x 23 columns]"
      ]
     },
     "execution_count": 17,
     "metadata": {},
     "output_type": "execute_result"
    }
   ],
   "source": [
    "badgers"
   ]
  },
  {
   "cell_type": "code",
   "execution_count": 22,
   "id": "39d5aadc-f762-4a51-b287-5a59d6cda620",
   "metadata": {},
   "outputs": [],
   "source": [
    "# Import seaborn to visualise relationships between different variables by using plots.\n",
    "# Particular variables I am interested in are how age, sex and seasonal variation relate to disease state.\n",
    "# These are categorical variables so will use seaborn's catplot feature.\n",
    "\n",
    "# tbstat scale: 0 = no disease, 3 = severe disease\n",
    "# sex: 1 = male, 2 = female\n",
    "# age: 0 = less than 1 year, n = age in years"
   ]
  },
  {
   "cell_type": "code",
   "execution_count": 24,
   "id": "4289cc84-d0da-4319-8c76-214ff1ec6666",
   "metadata": {},
   "outputs": [],
   "source": [
    "import seaborn as sns"
   ]
  },
  {
   "cell_type": "code",
   "execution_count": 45,
   "id": "ddd18346-d13d-4aeb-b118-6013801dd3f8",
   "metadata": {},
   "outputs": [
    {
     "data": {
      "text/plain": [
       "<seaborn.axisgrid.FacetGrid at 0x1ce6696f5b0>"
      ]
     },
     "execution_count": 45,
     "metadata": {},
     "output_type": "execute_result"
    },
    {
     "data": {
      "image/png": "[encoded data removed]",
      "text/plain": [
       "<Figure size 360x360 with 1 Axes>"
      ]
     },
     "metadata": {
      "needs_background": "light"
     },
     "output_type": "display_data"
    }
   ],
   "source": [
    "sns.catplot(data=badgers, x=\"age.known\", y=\"tbstat\")"
   ]
  },
  {
   "cell_type": "code",
   "execution_count": null,
   "id": "e64172d4-e82d-44a0-b46b-dccd3fa0f6e9",
   "metadata": {
    "tags": []
   },
   "outputs": [],
   "source": [
    "# Very pretty but I have no idea what this is telling me!\n",
    "# Try switching the axes"
   ]
  },
  {
   "cell_type": "code",
   "execution_count": 46,
   "id": "78f8a711-6983-4272-bf4c-b93fb170ac02",
   "metadata": {},
   "outputs": [
    {
     "data": {
      "text/plain": [
       "<seaborn.axisgrid.FacetGrid at 0x1ce66de1880>"
      ]
     },
     "execution_count": 46,
     "metadata": {},
     "output_type": "execute_result"
    },
    {
     "data": {
      "image/png": "[encoded data removed]",
      "text/plain": [
       "<Figure size 360x360 with 1 Axes>"
      ]
     },
     "metadata": {
      "needs_background": "light"
     },
     "output_type": "display_data"
    }
   ],
   "source": [
    "sns.catplot(data=badgers, y=\"age.known\", x=\"tbstat\")"
   ]
  },
  {
   "cell_type": "code",
   "execution_count": 34,
   "id": "d8a38aff-d45d-4128-8f4b-2078b30ebd7b",
   "metadata": {},
   "outputs": [],
   "source": [
    "# Badgers with more severe disease typically don't exceed 12 years of age? Seems fairly intuitive.\n",
    "# Next, gender differences."
   ]
  },
  {
   "cell_type": "code",
   "execution_count": 35,
   "id": "1359977c-0b88-402a-9444-91ff0970e1a3",
   "metadata": {},
   "outputs": [
    {
     "data": {
      "text/plain": [
       "<seaborn.axisgrid.FacetGrid at 0x1ce66c45520>"
      ]
     },
     "execution_count": 35,
     "metadata": {},
     "output_type": "execute_result"
    },
    {
     "data": {
      "image/png": "[encoded data removed]",
      "text/plain": [
       "<Figure size 360x360 with 1 Axes>"
      ]
     },
     "metadata": {
      "needs_background": "light"
     },
     "output_type": "display_data"
    }
   ],
   "source": [
    "sns.catplot(data=badgers, x=\"sex\", y=\"tbstat\")"
   ]
  },
  {
   "cell_type": "code",
   "execution_count": 36,
   "id": "12f45c1b-6a1c-4a76-9017-ac76f471abeb",
   "metadata": {},
   "outputs": [
    {
     "data": {
      "text/plain": [
       "<seaborn.axisgrid.FacetGrid at 0x1ce66d17a00>"
      ]
     },
     "execution_count": 36,
     "metadata": {},
     "output_type": "execute_result"
    },
    {
     "data": {
      "image/png": "[encoded data removed]",
      "text/plain": [
       "<Figure size 360x360 with 1 Axes>"
      ]
     },
     "metadata": {
      "needs_background": "light"
     },
     "output_type": "display_data"
    }
   ],
   "source": [
    "sns.catplot(data=badgers, y=\"sex\", x=\"tbstat\")"
   ]
  },
  {
   "cell_type": "code",
   "execution_count": 37,
   "id": "f9e38c5f-7f7d-4a72-8544-2369a720899a",
   "metadata": {},
   "outputs": [],
   "source": [
    "# Erm.. the entire spectrum of disease severity (0-4) is present in both genders?\n",
    "# Let's try seasonal variation..."
   ]
  },
  {
   "cell_type": "code",
   "execution_count": 38,
   "id": "7c4197c2-43a4-4b7d-8525-a8d807592d25",
   "metadata": {},
   "outputs": [
    {
     "data": {
      "text/plain": [
       "<seaborn.axisgrid.FacetGrid at 0x1ce669a04c0>"
      ]
     },
     "execution_count": 38,
     "metadata": {},
     "output_type": "execute_result"
    },
    {
     "data": {
      "image/png": "[encoded data removed]",
      "text/plain": [
       "<Figure size 360x360 with 1 Axes>"
      ]
     },
     "metadata": {
      "needs_background": "light"
     },
     "output_type": "display_data"
    }
   ],
   "source": [
    "sns.catplot(data=badgers, x=\"season\", y=\"tbstat\")"
   ]
  },
  {
   "cell_type": "code",
   "execution_count": 39,
   "id": "7e9cf13d-fe5f-4fbf-b9d6-0125ed61b43f",
   "metadata": {},
   "outputs": [],
   "source": [
    "# Scatter plot???"
   ]
  },
  {
   "cell_type": "code",
   "execution_count": 41,
   "id": "fa473767-e327-4122-a4c0-ce7d47f7a96e",
   "metadata": {
    "tags": []
   },
   "outputs": [
    {
     "data": {
      "text/plain": [
       "<seaborn.axisgrid.FacetGrid at 0x1ce66d31250>"
      ]
     },
     "execution_count": 41,
     "metadata": {},
     "output_type": "execute_result"
    },
    {
     "data": {
      "image/png": "[encoded data removed]",
      "text/plain": [
       "<Figure size 360x360 with 1 Axes>"
      ]
     },
     "metadata": {
      "needs_background": "light"
     },
     "output_type": "display_data"
    }
   ],
   "source": [
    "sns.relplot(data=badgers, x=\"season\", y=\"tbstat\")"
   ]
  },
  {
   "cell_type": "code",
   "execution_count": 42,
   "id": "1eb24315-29d2-4f07-90ad-2ffad8ef79ed",
   "metadata": {},
   "outputs": [],
   "source": [
    "# Sigh....\n",
    "# Out of desperation to produce something remotely meaningful, let's try two numerical variables (age vs toothwear):"
   ]
  },
  {
   "cell_type": "code",
   "execution_count": 47,
   "id": "dd498ca5-23f9-4dde-9409-4d5db7c6030d",
   "metadata": {},
   "outputs": [
    {
     "data": {
      "text/plain": [
       "<seaborn.axisgrid.FacetGrid at 0x1ce68b2e0a0>"
      ]
     },
     "execution_count": 47,
     "metadata": {},
     "output_type": "execute_result"
    },
    {
     "data": {
      "image/png": "[encoded data removed]",
      "text/plain": [
       "<Figure size 360x360 with 1 Axes>"
      ]
     },
     "metadata": {
      "needs_background": "light"
     },
     "output_type": "display_data"
    }
   ],
   "source": [
    "sns.relplot(data=badgers, x=\"age.known\", y=\"toothwear\")"
   ]
  },
  {
   "cell_type": "code",
   "execution_count": 48,
   "id": "76e3c411-1a15-4af6-a6b4-e58db47bf825",
   "metadata": {},
   "outputs": [],
   "source": [
    "# This still looks categorical and I don't know why... age vs body length??"
   ]
  },
  {
   "cell_type": "code",
   "execution_count": 50,
   "id": "1c49733b-204b-4343-9b77-803fd9250e2c",
   "metadata": {},
   "outputs": [
    {
     "data": {
      "text/plain": [
       "<seaborn.axisgrid.FacetGrid at 0x1ce66f9ca30>"
      ]
     },
     "execution_count": 50,
     "metadata": {},
     "output_type": "execute_result"
    },
    {
     "data": {
      "image/png": "[encoded data removed]",
      "text/plain": [
       "<Figure size 360x360 with 1 Axes>"
      ]
     },
     "metadata": {
      "needs_background": "light"
     },
     "output_type": "display_data"
    }
   ],
   "source": [
    "sns.relplot(data=badgers, x=\"age.known\", y=\"body.length\")"
   ]
  },
  {
   "cell_type": "code",
   "execution_count": 53,
   "id": "f51f398a-cad8-4691-97f8-83705f14b62b",
   "metadata": {},
   "outputs": [
    {
     "data": {
      "text/plain": [
       "<seaborn.axisgrid.FacetGrid at 0x1ce672a8640>"
      ]
     },
     "execution_count": 53,
     "metadata": {},
     "output_type": "execute_result"
    },
    {
     "data": {
      "image/png": "[encoded data removed]",
      "text/plain": [
       "<Figure size 360x360 with 1 Axes>"
      ]
     },
     "metadata": {
      "needs_background": "light"
     },
     "output_type": "display_data"
    }
   ],
   "source": [
    "sns.catplot(data=badgers, x=\"age.known\", y=\"body.length\", kind=\"box\")"
   ]
  },
  {
   "cell_type": "code",
   "execution_count": 54,
   "id": "3dd70242-3894-40c1-b742-859e16bb96b8",
   "metadata": {},
   "outputs": [],
   "source": [
    "# Still categorical I think but at least I can interpret it!\n",
    "# Cubs are shorter and show greater variation in body length compared to badgers >1 year old!\n",
    "\n",
    "# How about looking at some distributions..."
   ]
  },
  {
   "cell_type": "code",
   "execution_count": 55,
   "id": "603673b7-a4e6-4992-a1a2-451cf143704b",
   "metadata": {},
   "outputs": [
    {
     "data": {
      "text/plain": [
       "<seaborn.axisgrid.FacetGrid at 0x1ce6717f7c0>"
      ]
     },
     "execution_count": 55,
     "metadata": {},
     "output_type": "execute_result"
    },
    {
     "data": {
      "image/png": "[encoded data removed]",
      "text/plain": [
       "<Figure size 360x360 with 1 Axes>"
      ]
     },
     "metadata": {
      "needs_background": "light"
     },
     "output_type": "display_data"
    }
   ],
   "source": [
    "sns.displot(data=badgers, x=\"tbstat\")"
   ]
  },
  {
   "cell_type": "code",
   "execution_count": 56,
   "id": "be9ad3ea-30df-46ea-a2f1-0d33bc66ac89",
   "metadata": {},
   "outputs": [],
   "source": [
    "# The majority of capture events are of healthy badgers rather than infected badgers :)"
   ]
  },
  {
   "cell_type": "code",
   "execution_count": 57,
   "id": "3f849b32-f4fb-42c4-8671-b925c5c7045b",
   "metadata": {},
   "outputs": [
    {
     "data": {
      "text/plain": [
       "<seaborn.axisgrid.FacetGrid at 0x1ce669a0ca0>"
      ]
     },
     "execution_count": 57,
     "metadata": {},
     "output_type": "execute_result"
    },
    {
     "data": {
      "image/png": "[encoded data removed]",
      "text/plain": [
       "<Figure size 360x360 with 1 Axes>"
      ]
     },
     "metadata": {
      "needs_background": "light"
     },
     "output_type": "display_data"
    }
   ],
   "source": [
    "sns.displot(data=badgers, x=\"age.known\")"
   ]
  },
  {
   "cell_type": "code",
   "execution_count": null,
   "id": "7223ffa3-cd9d-4a3b-b1b7-88501e0a1a3b",
   "metadata": {},
   "outputs": [],
   "source": [
    "# Cubs and badgers aged 1 year are captured more frequently than older animals. The capture of badgers >10 years old is uncommon."
   ]
  }
 ],
 "metadata": {
  "kernelspec": {
   "display_name": "Python 3 (ipykernel)",
   "language": "python",
   "name": "python3"
  },
  "language_info": {
   "codemirror_mode": {
    "name": "ipython",
    "version": 3
   },
   "file_extension": ".py",
   "mimetype": "text/x-python",
   "name": "python",
   "nbconvert_exporter": "python",
   "pygments_lexer": "ipython3",
   "version": "3.9.7"
  }
 },
 "nbformat": 4,
 "nbformat_minor": 5
}
